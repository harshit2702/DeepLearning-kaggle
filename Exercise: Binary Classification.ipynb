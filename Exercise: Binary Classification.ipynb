{
 "cells": [
  {
   "cell_type": "markdown",
   "id": "249e1e1f",
   "metadata": {
    "papermill": {
     "duration": 0.003067,
     "end_time": "2024-12-31T09:56:48.830442",
     "exception": false,
     "start_time": "2024-12-31T09:56:48.827375",
     "status": "completed"
    },
    "tags": []
   },
   "source": [
    "**This notebook is an exercise in the [Intro to Deep Learning](https://www.kaggle.com/learn/intro-to-deep-learning) course.  You can reference the tutorial at [this link](https://www.kaggle.com/ryanholbrook/binary-classification).**\n",
    "\n",
    "---\n"
   ]
  },
  {
   "cell_type": "markdown",
   "id": "ea6db6db",
   "metadata": {
    "papermill": {
     "duration": 0.002435,
     "end_time": "2024-12-31T09:56:48.835765",
     "exception": false,
     "start_time": "2024-12-31T09:56:48.833330",
     "status": "completed"
    },
    "tags": []
   },
   "source": [
    "# Introduction #\n",
    "\n",
    "In this exercise, you'll build a model to predict hotel cancellations with a binary classifier."
   ]
  },
  {
   "cell_type": "code",
   "execution_count": 1,
   "id": "e833eb96",
   "metadata": {
    "execution": {
     "iopub.execute_input": "2024-12-31T09:56:48.842062Z",
     "iopub.status.busy": "2024-12-31T09:56:48.841771Z",
     "iopub.status.idle": "2024-12-31T09:56:49.549584Z",
     "shell.execute_reply": "2024-12-31T09:56:49.548815Z"
    },
    "lines_to_next_cell": 0,
    "papermill": {
     "duration": 0.713192,
     "end_time": "2024-12-31T09:56:49.551527",
     "exception": false,
     "start_time": "2024-12-31T09:56:48.838335",
     "status": "completed"
    },
    "tags": []
   },
   "outputs": [
    {
     "name": "stderr",
     "output_type": "stream",
     "text": [
      "/tmp/ipykernel_26/3338970720.py:3: MatplotlibDeprecationWarning: The seaborn styles shipped by Matplotlib are deprecated since 3.6, as they no longer correspond to the styles shipped by seaborn. However, they will remain available as 'seaborn-v0_8-<style>'. Alternatively, directly use the seaborn API instead.\n",
      "  plt.style.use('seaborn-whitegrid')\n"
     ]
    }
   ],
   "source": [
    "# Setup plotting\n",
    "import matplotlib.pyplot as plt\n",
    "plt.style.use('seaborn-whitegrid')\n",
    "# Set Matplotlib defaults\n",
    "plt.rc('figure', autolayout=True)\n",
    "plt.rc('axes', labelweight='bold', labelsize='large',\n",
    "       titleweight='bold', titlesize=18, titlepad=10)\n",
    "plt.rc('animation', html='html5')\n",
    "\n",
    "# Setup feedback system\n",
    "from learntools.core import binder\n",
    "binder.bind(globals())\n",
    "from learntools.deep_learning_intro.ex6 import *"
   ]
  },
  {
   "cell_type": "markdown",
   "id": "fbddc078",
   "metadata": {
    "papermill": {
     "duration": 0.002521,
     "end_time": "2024-12-31T09:56:49.557117",
     "exception": false,
     "start_time": "2024-12-31T09:56:49.554596",
     "status": "completed"
    },
    "tags": []
   },
   "source": [
    "First, load the *Hotel Cancellations* dataset."
   ]
  },
  {
   "cell_type": "code",
   "execution_count": 2,
   "id": "38e17dab",
   "metadata": {
    "execution": {
     "iopub.execute_input": "2024-12-31T09:56:49.563634Z",
     "iopub.status.busy": "2024-12-31T09:56:49.563307Z",
     "iopub.status.idle": "2024-12-31T09:56:51.743488Z",
     "shell.execute_reply": "2024-12-31T09:56:51.742621Z"
    },
    "lines_to_next_cell": 2,
    "papermill": {
     "duration": 2.185873,
     "end_time": "2024-12-31T09:56:51.745654",
     "exception": false,
     "start_time": "2024-12-31T09:56:49.559781",
     "status": "completed"
    },
    "tags": []
   },
   "outputs": [],
   "source": [
    "import pandas as pd\n",
    "\n",
    "from sklearn.model_selection import train_test_split\n",
    "from sklearn.preprocessing import StandardScaler, OneHotEncoder\n",
    "from sklearn.impute import SimpleImputer\n",
    "from sklearn.pipeline import make_pipeline\n",
    "from sklearn.compose import make_column_transformer\n",
    "\n",
    "hotel = pd.read_csv('../input/dl-course-data/hotel.csv')\n",
    "\n",
    "X = hotel.copy()\n",
    "y = X.pop('is_canceled')\n",
    "\n",
    "X['arrival_date_month'] = \\\n",
    "    X['arrival_date_month'].map(\n",
    "        {'January':1, 'February': 2, 'March':3,\n",
    "         'April':4, 'May':5, 'June':6, 'July':7,\n",
    "         'August':8, 'September':9, 'October':10,\n",
    "         'November':11, 'December':12}\n",
    "    )\n",
    "\n",
    "features_num = [\n",
    "    \"lead_time\", \"arrival_date_week_number\",\n",
    "    \"arrival_date_day_of_month\", \"stays_in_weekend_nights\",\n",
    "    \"stays_in_week_nights\", \"adults\", \"children\", \"babies\",\n",
    "    \"is_repeated_guest\", \"previous_cancellations\",\n",
    "    \"previous_bookings_not_canceled\", \"required_car_parking_spaces\",\n",
    "    \"total_of_special_requests\", \"adr\",\n",
    "]\n",
    "features_cat = [\n",
    "    \"hotel\", \"arrival_date_month\", \"meal\",\n",
    "    \"market_segment\", \"distribution_channel\",\n",
    "    \"reserved_room_type\", \"deposit_type\", \"customer_type\",\n",
    "]\n",
    "\n",
    "transformer_num = make_pipeline(\n",
    "    SimpleImputer(strategy=\"constant\"), # there are a few missing values\n",
    "    StandardScaler(),\n",
    ")\n",
    "transformer_cat = make_pipeline(\n",
    "    SimpleImputer(strategy=\"constant\", fill_value=\"NA\"),\n",
    "    OneHotEncoder(handle_unknown='ignore'),\n",
    ")\n",
    "\n",
    "preprocessor = make_column_transformer(\n",
    "    (transformer_num, features_num),\n",
    "    (transformer_cat, features_cat),\n",
    ")\n",
    "\n",
    "# stratify - make sure classes are evenlly represented across splits\n",
    "X_train, X_valid, y_train, y_valid = \\\n",
    "    train_test_split(X, y, stratify=y, train_size=0.75)\n",
    "\n",
    "X_train = preprocessor.fit_transform(X_train)\n",
    "X_valid = preprocessor.transform(X_valid)\n",
    "\n",
    "input_shape = [X_train.shape[1]]"
   ]
  },
  {
   "cell_type": "markdown",
   "id": "d0eb4aa4",
   "metadata": {
    "papermill": {
     "duration": 0.002705,
     "end_time": "2024-12-31T09:56:51.751415",
     "exception": false,
     "start_time": "2024-12-31T09:56:51.748710",
     "status": "completed"
    },
    "tags": []
   },
   "source": [
    "# 1) Define Model #\n",
    "\n",
    "The model we'll use this time will have both batch normalization and dropout layers. To ease reading we've broken the diagram into blocks, but you can define it layer by layer as usual.\n",
    "\n",
    "Define a model with an architecture given by this diagram:\n",
    "\n",
    "<figure style=\"padding: 1em;\">\n",
    "<img src=\"https://storage.googleapis.com/kaggle-media/learn/images/V04o59Z.png\" width=\"400\" alt=\"Diagram of network architecture: BatchNorm, Dense, BatchNorm, Dropout, Dense, BatchNorm, Dropout, Dense.\">\n",
    "<figcaption style=\"textalign: center; font-style: italic\"><center>Diagram of a binary classifier.</center></figcaption>\n",
    "</figure>\n"
   ]
  },
  {
   "cell_type": "code",
   "execution_count": 3,
   "id": "b4b1ef55",
   "metadata": {
    "execution": {
     "iopub.execute_input": "2024-12-31T09:56:51.758208Z",
     "iopub.status.busy": "2024-12-31T09:56:51.757509Z",
     "iopub.status.idle": "2024-12-31T09:57:03.838030Z",
     "shell.execute_reply": "2024-12-31T09:57:03.837179Z"
    },
    "lines_to_next_cell": 2,
    "papermill": {
     "duration": 12.085625,
     "end_time": "2024-12-31T09:57:03.839676",
     "exception": false,
     "start_time": "2024-12-31T09:56:51.754051",
     "status": "completed"
    },
    "tags": []
   },
   "outputs": [
    {
     "name": "stderr",
     "output_type": "stream",
     "text": [
      "2024-12-31 09:56:53.483145: E external/local_xla/xla/stream_executor/cuda/cuda_dnn.cc:9261] Unable to register cuDNN factory: Attempting to register factory for plugin cuDNN when one has already been registered\n",
      "2024-12-31 09:56:53.483312: E external/local_xla/xla/stream_executor/cuda/cuda_fft.cc:607] Unable to register cuFFT factory: Attempting to register factory for plugin cuFFT when one has already been registered\n",
      "2024-12-31 09:56:53.610315: E external/local_xla/xla/stream_executor/cuda/cuda_blas.cc:1515] Unable to register cuBLAS factory: Attempting to register factory for plugin cuBLAS when one has already been registered\n"
     ]
    },
    {
     "data": {
      "application/javascript": [
       "parent.postMessage({\"jupyterEvent\": \"custom.exercise_interaction\", \"data\": {\"outcomeType\": 1, \"valueTowardsCompletion\": 0.3333333333333333, \"interactionType\": 1, \"questionType\": 2, \"questionId\": \"1_Q1\", \"learnToolsVersion\": \"0.3.4\", \"failureMessage\": \"\", \"exceptionClass\": \"\", \"trace\": \"\"}}, \"*\")"
      ],
      "text/plain": [
       "<IPython.core.display.Javascript object>"
      ]
     },
     "metadata": {},
     "output_type": "display_data"
    },
    {
     "data": {
      "text/markdown": [
       "<span style=\"color:#33cc33\">Correct</span>"
      ],
      "text/plain": [
       "Correct"
      ]
     },
     "metadata": {},
     "output_type": "display_data"
    }
   ],
   "source": [
    "from tensorflow import keras\n",
    "from tensorflow.keras import layers\n",
    "\n",
    "# YOUR CODE HERE: define the model given in the diagram\n",
    "model = keras.Sequential([\n",
    "    layers.BatchNormalization(input_shape = input_shape),\n",
    "    layers.Dense(256,activation='relu'),\n",
    "    layers.BatchNormalization(),\n",
    "    layers.Dropout(0.3),\n",
    "    layers.Dense(256,activation='relu'),\n",
    "    layers.BatchNormalization(),\n",
    "    layers.Dropout(0.3),\n",
    "    layers.Dense(1,activation='sigmoid'),\n",
    "    \n",
    "])\n",
    "\n",
    "# Check your answer\n",
    "q_1.check()"
   ]
  },
  {
   "cell_type": "markdown",
   "id": "b51f7ce5",
   "metadata": {
    "papermill": {
     "duration": 0.002952,
     "end_time": "2024-12-31T09:57:03.845711",
     "exception": false,
     "start_time": "2024-12-31T09:57:03.842759",
     "status": "completed"
    },
    "tags": []
   },
   "source": [
    "# 2) Add Optimizer, Loss, and Metric #\n",
    "\n",
    "Now compile the model with the Adam optimizer and binary versions of the cross-entropy loss and accuracy metric."
   ]
  },
  {
   "cell_type": "code",
   "execution_count": 4,
   "id": "4ccdeb5b",
   "metadata": {
    "execution": {
     "iopub.execute_input": "2024-12-31T09:57:03.852597Z",
     "iopub.status.busy": "2024-12-31T09:57:03.852125Z",
     "iopub.status.idle": "2024-12-31T09:57:03.871472Z",
     "shell.execute_reply": "2024-12-31T09:57:03.870632Z"
    },
    "lines_to_next_cell": 0,
    "papermill": {
     "duration": 0.025209,
     "end_time": "2024-12-31T09:57:03.873792",
     "exception": false,
     "start_time": "2024-12-31T09:57:03.848583",
     "status": "completed"
    },
    "tags": []
   },
   "outputs": [
    {
     "data": {
      "application/javascript": [
       "parent.postMessage({\"jupyterEvent\": \"custom.exercise_interaction\", \"data\": {\"outcomeType\": 1, \"valueTowardsCompletion\": 0.3333333333333333, \"interactionType\": 1, \"questionType\": 2, \"questionId\": \"2_Q2\", \"learnToolsVersion\": \"0.3.4\", \"failureMessage\": \"\", \"exceptionClass\": \"\", \"trace\": \"\"}}, \"*\")"
      ],
      "text/plain": [
       "<IPython.core.display.Javascript object>"
      ]
     },
     "metadata": {},
     "output_type": "display_data"
    },
    {
     "data": {
      "text/markdown": [
       "<span style=\"color:#33cc33\">Correct</span>"
      ],
      "text/plain": [
       "Correct"
      ]
     },
     "metadata": {},
     "output_type": "display_data"
    }
   ],
   "source": [
    "# YOUR CODE HERE\n",
    "model.compile(\n",
    "    optimizer='adam',\n",
    "    loss='binary_crossentropy',\n",
    "    metrics=['binary_accuracy'],\n",
    ")\n",
    "# Check your answer\n",
    "q_2.check()"
   ]
  },
  {
   "cell_type": "code",
   "execution_count": 5,
   "id": "c752d853",
   "metadata": {
    "execution": {
     "iopub.execute_input": "2024-12-31T09:57:03.888137Z",
     "iopub.status.busy": "2024-12-31T09:57:03.887696Z",
     "iopub.status.idle": "2024-12-31T09:57:03.891899Z",
     "shell.execute_reply": "2024-12-31T09:57:03.890971Z"
    },
    "lines_to_next_cell": 0,
    "papermill": {
     "duration": 0.013694,
     "end_time": "2024-12-31T09:57:03.894302",
     "exception": false,
     "start_time": "2024-12-31T09:57:03.880608",
     "status": "completed"
    },
    "tags": []
   },
   "outputs": [],
   "source": [
    "# Lines below will give you a hint or solution code\n",
    "#q_2.hint()\n",
    "#q_2.solution()"
   ]
  },
  {
   "cell_type": "markdown",
   "id": "a0940ae5",
   "metadata": {
    "papermill": {
     "duration": 0.006443,
     "end_time": "2024-12-31T09:57:03.907079",
     "exception": false,
     "start_time": "2024-12-31T09:57:03.900636",
     "status": "completed"
    },
    "tags": []
   },
   "source": [
    "Finally, run this cell to train the model and view the learning curves. It may run for around 60 to 70 epochs, which could take a minute or two."
   ]
  },
  {
   "cell_type": "code",
   "execution_count": 6,
   "id": "53b86ff3",
   "metadata": {
    "execution": {
     "iopub.execute_input": "2024-12-31T09:57:03.919780Z",
     "iopub.status.busy": "2024-12-31T09:57:03.919303Z",
     "iopub.status.idle": "2024-12-31T09:57:39.249972Z",
     "shell.execute_reply": "2024-12-31T09:57:39.249144Z"
    },
    "papermill": {
     "duration": 35.338894,
     "end_time": "2024-12-31T09:57:39.252032",
     "exception": false,
     "start_time": "2024-12-31T09:57:03.913138",
     "status": "completed"
    },
    "tags": []
   },
   "outputs": [
    {
     "name": "stdout",
     "output_type": "stream",
     "text": [
      "Epoch 1/200\n"
     ]
    },
    {
     "name": "stderr",
     "output_type": "stream",
     "text": [
      "WARNING: All log messages before absl::InitializeLog() is called are written to STDERR\n",
      "I0000 00:00:1735639027.868760      67 device_compiler.h:186] Compiled cluster using XLA!  This line is logged at most once for the lifetime of the process.\n"
     ]
    },
    {
     "name": "stdout",
     "output_type": "stream",
     "text": [
      "175/175 [==============================] - 6s 7ms/step - loss: 0.4795 - binary_accuracy: 0.7742 - val_loss: 0.4390 - val_binary_accuracy: 0.7941\n",
      "Epoch 2/200\n",
      "175/175 [==============================] - 1s 6ms/step - loss: 0.4227 - binary_accuracy: 0.8025 - val_loss: 0.4055 - val_binary_accuracy: 0.8084\n",
      "Epoch 3/200\n",
      "175/175 [==============================] - 1s 5ms/step - loss: 0.4085 - binary_accuracy: 0.8091 - val_loss: 0.3969 - val_binary_accuracy: 0.8128\n",
      "Epoch 4/200\n",
      "175/175 [==============================] - 1s 5ms/step - loss: 0.4008 - binary_accuracy: 0.8142 - val_loss: 0.3949 - val_binary_accuracy: 0.8149\n",
      "Epoch 5/200\n",
      "175/175 [==============================] - 1s 5ms/step - loss: 0.3960 - binary_accuracy: 0.8154 - val_loss: 0.3893 - val_binary_accuracy: 0.8187\n",
      "Epoch 6/200\n",
      "175/175 [==============================] - 1s 5ms/step - loss: 0.3931 - binary_accuracy: 0.8169 - val_loss: 0.3853 - val_binary_accuracy: 0.8209\n",
      "Epoch 7/200\n",
      "175/175 [==============================] - 1s 5ms/step - loss: 0.3888 - binary_accuracy: 0.8195 - val_loss: 0.3812 - val_binary_accuracy: 0.8253\n",
      "Epoch 8/200\n",
      "175/175 [==============================] - 1s 5ms/step - loss: 0.3853 - binary_accuracy: 0.8223 - val_loss: 0.3787 - val_binary_accuracy: 0.8245\n",
      "Epoch 9/200\n",
      "175/175 [==============================] - 1s 5ms/step - loss: 0.3834 - binary_accuracy: 0.8226 - val_loss: 0.3771 - val_binary_accuracy: 0.8264\n",
      "Epoch 10/200\n",
      "175/175 [==============================] - 1s 5ms/step - loss: 0.3789 - binary_accuracy: 0.8255 - val_loss: 0.3760 - val_binary_accuracy: 0.8279\n",
      "Epoch 11/200\n",
      "175/175 [==============================] - 1s 5ms/step - loss: 0.3765 - binary_accuracy: 0.8253 - val_loss: 0.3708 - val_binary_accuracy: 0.8273\n",
      "Epoch 12/200\n",
      "175/175 [==============================] - 1s 5ms/step - loss: 0.3738 - binary_accuracy: 0.8268 - val_loss: 0.3695 - val_binary_accuracy: 0.8321\n",
      "Epoch 13/200\n",
      "175/175 [==============================] - 1s 5ms/step - loss: 0.3722 - binary_accuracy: 0.8280 - val_loss: 0.3666 - val_binary_accuracy: 0.8311\n",
      "Epoch 14/200\n",
      "175/175 [==============================] - 1s 5ms/step - loss: 0.3697 - binary_accuracy: 0.8290 - val_loss: 0.3700 - val_binary_accuracy: 0.8294\n",
      "Epoch 15/200\n",
      "175/175 [==============================] - 1s 5ms/step - loss: 0.3685 - binary_accuracy: 0.8311 - val_loss: 0.3651 - val_binary_accuracy: 0.8353\n",
      "Epoch 16/200\n",
      "175/175 [==============================] - 1s 5ms/step - loss: 0.3674 - binary_accuracy: 0.8300 - val_loss: 0.3639 - val_binary_accuracy: 0.8343\n",
      "Epoch 17/200\n",
      "175/175 [==============================] - 1s 5ms/step - loss: 0.3648 - binary_accuracy: 0.8312 - val_loss: 0.3687 - val_binary_accuracy: 0.8319\n",
      "Epoch 18/200\n",
      "175/175 [==============================] - 1s 5ms/step - loss: 0.3621 - binary_accuracy: 0.8327 - val_loss: 0.3605 - val_binary_accuracy: 0.8339\n",
      "Epoch 19/200\n",
      "175/175 [==============================] - 1s 5ms/step - loss: 0.3605 - binary_accuracy: 0.8342 - val_loss: 0.3634 - val_binary_accuracy: 0.8344\n",
      "Epoch 20/200\n",
      "175/175 [==============================] - 1s 5ms/step - loss: 0.3593 - binary_accuracy: 0.8341 - val_loss: 0.3590 - val_binary_accuracy: 0.8354\n",
      "Epoch 21/200\n",
      "175/175 [==============================] - 1s 5ms/step - loss: 0.3585 - binary_accuracy: 0.8341 - val_loss: 0.3615 - val_binary_accuracy: 0.8351\n",
      "Epoch 22/200\n",
      "175/175 [==============================] - 1s 5ms/step - loss: 0.3560 - binary_accuracy: 0.8362 - val_loss: 0.3597 - val_binary_accuracy: 0.8362\n",
      "Epoch 23/200\n",
      "175/175 [==============================] - 1s 5ms/step - loss: 0.3560 - binary_accuracy: 0.8364 - val_loss: 0.3567 - val_binary_accuracy: 0.8377\n",
      "Epoch 24/200\n",
      "175/175 [==============================] - 1s 5ms/step - loss: 0.3547 - binary_accuracy: 0.8357 - val_loss: 0.3576 - val_binary_accuracy: 0.8362\n",
      "Epoch 25/200\n",
      "175/175 [==============================] - 1s 5ms/step - loss: 0.3537 - binary_accuracy: 0.8371 - val_loss: 0.3571 - val_binary_accuracy: 0.8370\n",
      "Epoch 26/200\n",
      "175/175 [==============================] - 1s 5ms/step - loss: 0.3524 - binary_accuracy: 0.8369 - val_loss: 0.3556 - val_binary_accuracy: 0.8386\n",
      "Epoch 27/200\n",
      "175/175 [==============================] - 1s 5ms/step - loss: 0.3510 - binary_accuracy: 0.8376 - val_loss: 0.3538 - val_binary_accuracy: 0.8403\n",
      "Epoch 28/200\n",
      "175/175 [==============================] - 1s 5ms/step - loss: 0.3507 - binary_accuracy: 0.8372 - val_loss: 0.3537 - val_binary_accuracy: 0.8390\n",
      "Epoch 29/200\n",
      "175/175 [==============================] - 1s 5ms/step - loss: 0.3502 - binary_accuracy: 0.8380 - val_loss: 0.3542 - val_binary_accuracy: 0.8382\n",
      "Epoch 30/200\n",
      "175/175 [==============================] - 1s 5ms/step - loss: 0.3474 - binary_accuracy: 0.8400 - val_loss: 0.3530 - val_binary_accuracy: 0.8395\n",
      "Epoch 31/200\n",
      "175/175 [==============================] - 1s 5ms/step - loss: 0.3475 - binary_accuracy: 0.8403 - val_loss: 0.3541 - val_binary_accuracy: 0.8395\n",
      "Epoch 32/200\n",
      "175/175 [==============================] - 1s 5ms/step - loss: 0.3452 - binary_accuracy: 0.8413 - val_loss: 0.3552 - val_binary_accuracy: 0.8382\n"
     ]
    },
    {
     "data": {
      "text/plain": [
       "<Axes: title={'center': 'Accuracy'}>"
      ]
     },
     "execution_count": 6,
     "metadata": {},
     "output_type": "execute_result"
    },
    {
     "data": {
      "image/png": "[encoded data removed]",
      "text/plain": [
       "<Figure size 640x480 with 1 Axes>"
      ]
     },
     "metadata": {},
     "output_type": "display_data"
    },
    {
     "data": {
      "image/png": "[encoded data removed]",
      "text/plain": [
       "<Figure size 640x480 with 1 Axes>"
      ]
     },
     "metadata": {},
     "output_type": "display_data"
    }
   ],
   "source": [
    "early_stopping = keras.callbacks.EarlyStopping(\n",
    "    patience=5,\n",
    "    min_delta=0.001,\n",
    "    restore_best_weights=True,\n",
    ")\n",
    "history = model.fit(\n",
    "    X_train, y_train,\n",
    "    validation_data=(X_valid, y_valid),\n",
    "    batch_size=512,\n",
    "    epochs=200,\n",
    "    callbacks=[early_stopping],\n",
    ")\n",
    "\n",
    "history_df = pd.DataFrame(history.history)\n",
    "history_df.loc[:, ['loss', 'val_loss']].plot(title=\"Cross-entropy\")\n",
    "history_df.loc[:, ['binary_accuracy', 'val_binary_accuracy']].plot(title=\"Accuracy\")"
   ]
  },
  {
   "cell_type": "markdown",
   "id": "af758dbb",
   "metadata": {
    "papermill": {
     "duration": 0.028389,
     "end_time": "2024-12-31T09:57:39.308462",
     "exception": false,
     "start_time": "2024-12-31T09:57:39.280073",
     "status": "completed"
    },
    "tags": []
   },
   "source": [
    "# 3) Train and Evaluate #\n",
    "\n",
    "\n",
    "What do you think about the learning curves? Does it look like the model underfit or overfit? Was the cross-entropy loss a good stand-in for accuracy?"
   ]
  },
  {
   "cell_type": "code",
   "execution_count": 7,
   "id": "5dba9a62",
   "metadata": {
    "execution": {
     "iopub.execute_input": "2024-12-31T09:57:39.365124Z",
     "iopub.status.busy": "2024-12-31T09:57:39.364798Z",
     "iopub.status.idle": "2024-12-31T09:57:39.371793Z",
     "shell.execute_reply": "2024-12-31T09:57:39.371008Z"
    },
    "papermill": {
     "duration": 0.037521,
     "end_time": "2024-12-31T09:57:39.373323",
     "exception": false,
     "start_time": "2024-12-31T09:57:39.335802",
     "status": "completed"
    },
    "tags": []
   },
   "outputs": [
    {
     "data": {
      "application/javascript": [
       "parent.postMessage({\"jupyterEvent\": \"custom.exercise_interaction\", \"data\": {\"outcomeType\": 1, \"valueTowardsCompletion\": 0.3333333333333333, \"interactionType\": 1, \"questionType\": 4, \"questionId\": \"3_Q3\", \"learnToolsVersion\": \"0.3.4\", \"failureMessage\": \"\", \"exceptionClass\": \"\", \"trace\": \"\"}}, \"*\")"
      ],
      "text/plain": [
       "<IPython.core.display.Javascript object>"
      ]
     },
     "metadata": {},
     "output_type": "display_data"
    },
    {
     "data": {
      "text/markdown": [
       "<span style=\"color:#33cc33\">Correct:</span> \n",
       "\n",
       "Though we can see the training loss continuing to fall, the early stopping callback prevented any overfitting. Moreover, the accuracy rose at the same rate as the cross-entropy fell, so it appears that minimizing cross-entropy was a good stand-in. All in all, it looks like this training was a success!"
      ],
      "text/plain": [
       "Correct: \n",
       "\n",
       "Though we can see the training loss continuing to fall, the early stopping callback prevented any overfitting. Moreover, the accuracy rose at the same rate as the cross-entropy fell, so it appears that minimizing cross-entropy was a good stand-in. All in all, it looks like this training was a success!"
      ]
     },
     "metadata": {},
     "output_type": "display_data"
    }
   ],
   "source": [
    "# View the solution (Run this cell to receive credit!)\n",
    "q_3.check()"
   ]
  },
  {
   "cell_type": "markdown",
   "id": "d47eb455",
   "metadata": {
    "papermill": {
     "duration": 0.027399,
     "end_time": "2024-12-31T09:57:39.428408",
     "exception": false,
     "start_time": "2024-12-31T09:57:39.401009",
     "status": "completed"
    },
    "tags": []
   },
   "source": [
    "# Conclusion #\n",
    "\n",
    "Congratulations! You've completed Kaggle's *Introduction to Deep Learning* course!\n",
    "\n",
    "With your new skills you're ready to take on more advanced applications like computer vision and sentiment classification. What would you like to do next?\n",
    "\n",
    "Why not try one of our *Getting Started* competitions?\n",
    "\n",
    "- Classify images with TPUs in [**Petals to the Metal**](https://www.kaggle.com/c/tpu-getting-started)\n",
    "- Create art with GANs in [**I'm Something of a Painter Myself**](https://www.kaggle.com/c/gan-getting-started)\n",
    "- Classify Tweets in [**Real or Not? NLP with Disaster Tweets**](https://www.kaggle.com/c/nlp-getting-started)\n",
    "- Detect contradiction and entailment in [**Contradictory, My Dear Watson**](https://www.kaggle.com/c/contradictory-my-dear-watson)\n",
    "\n",
    "Until next time, Kagglers!"
   ]
  },
  {
   "cell_type": "markdown",
   "id": "0609035f",
   "metadata": {
    "papermill": {
     "duration": 0.027311,
     "end_time": "2024-12-31T09:57:39.484118",
     "exception": false,
     "start_time": "2024-12-31T09:57:39.456807",
     "status": "completed"
    },
    "tags": []
   },
   "source": [
    "---\n",
    "\n",
    "\n",
    "\n",
    "\n",
    "*Have questions or comments? Visit the [course discussion forum](https://www.kaggle.com/learn/intro-to-deep-learning/discussion) to chat with other learners.*"
   ]
  }
 ],
 "metadata": {
  "jupytext": {
   "cell_metadata_filter": "-all",
   "formats": "ipynb"
  },
  "kaggle": {
   "accelerator": "gpu",
   "dataSources": [
    {
     "datasetId": 829369,
     "sourceId": 1480608,
     "sourceType": "datasetVersion"
    }
   ],
   "dockerImageVersionId": 30648,
   "isGpuEnabled": true,
   "isInternetEnabled": false,
   "language": "python",
   "sourceType": "notebook"
  },
  "kernelspec": {
   "display_name": "Python 3",
   "language": "python",
   "name": "python3"
  },
  "language_info": {
   "codemirror_mode": {
    "name": "ipython",
    "version": 3
   },
   "file_extension": ".py",
   "mimetype": "text/x-python",
   "name": "python",
   "nbconvert_exporter": "python",
   "pygments_lexer": "ipython3",
   "version": "3.10.13"
  },
  "papermill": {
   "default_parameters": {},
   "duration": 56.144319,
   "end_time": "2024-12-31T09:57:42.509778",
   "environment_variables": {},
   "exception": null,
   "input_path": "__notebook__.ipynb",
   "output_path": "__notebook__.ipynb",
   "parameters": {},
   "start_time": "2024-12-31T09:56:46.365459",
   "version": "2.5.0"
  }
 },
 "nbformat": 4,
 "nbformat_minor": 5
}
